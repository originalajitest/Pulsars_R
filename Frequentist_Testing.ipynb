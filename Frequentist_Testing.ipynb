{
 "cells": [
  {
   "cell_type": "markdown",
   "id": "03797213-f8cd-4bec-882c-6b7dba661f1b",
   "metadata": {},
   "source": [
    "# Applying Frequentist Inference to Pulsars Data"
   ]
  },
  {
   "cell_type": "markdown",
   "id": "926cb714-d157-4c74-8ead-2846bff82eab",
   "metadata": {},
   "source": [
    "## Introduction\n",
    "\n",
    "Here we are carrying on from the conclusion we reached in the main document, we will be obtaining values to manupliate the data with.\n",
    "\n",
    "### What is Frequentist Inference:\n",
    "- This is when you have a data set of say two values (one varying and the other between say two values like calss and mean_ip for us) and you try to manupliate the data set to allow for the values to be further apart from eachother to allow for easier manupliation and training.\n",
    "- You try to seperate them enough that when you guess a random value, that random value is closer to one rather than the other, a pulsar instead of a non pulsar in this case.\n",
    "- For that first we need to decide the percent of False Positives (values we decide are pulsars but are not in reality) and the percent of True Positives (values we decide are pulsars when they are Pulsars). I am aiming to get a 5% False Positive and a 80% true positive for each value in the dataset.\n",
    "\n"
   ]
  },
  {
   "cell_type": "code",
   "execution_count": 2,
   "id": "30e9b781-4e66-4a1d-b603-d8644fca0257",
   "metadata": {
    "tags": []
   },
   "outputs": [
    {
     "name": "stderr",
     "output_type": "stream",
     "text": [
      "Warning message in system(\"timedatectl\", intern = TRUE):\n",
      "“running command 'timedatectl' had status 1”\n",
      "── \u001b[1mAttaching core tidyverse packages\u001b[22m ──────────────────────── tidyverse 2.0.0 ──\n",
      "\u001b[32m✔\u001b[39m \u001b[34mdplyr    \u001b[39m 1.1.0     \u001b[32m✔\u001b[39m \u001b[34mreadr    \u001b[39m 2.1.4\n",
      "\u001b[32m✔\u001b[39m \u001b[34mforcats  \u001b[39m 1.0.0     \u001b[32m✔\u001b[39m \u001b[34mstringr  \u001b[39m 1.5.0\n",
      "\u001b[32m✔\u001b[39m \u001b[34mggplot2  \u001b[39m 3.4.1     \u001b[32m✔\u001b[39m \u001b[34mtibble   \u001b[39m 3.2.1\n",
      "\u001b[32m✔\u001b[39m \u001b[34mlubridate\u001b[39m 1.9.2     \u001b[32m✔\u001b[39m \u001b[34mtidyr    \u001b[39m 1.3.0\n",
      "\u001b[32m✔\u001b[39m \u001b[34mpurrr    \u001b[39m 1.0.1     \n",
      "── \u001b[1mConflicts\u001b[22m ────────────────────────────────────────── tidyverse_conflicts() ──\n",
      "\u001b[31m✖\u001b[39m \u001b[34mdplyr\u001b[39m::\u001b[32mfilter()\u001b[39m masks \u001b[34mstats\u001b[39m::filter()\n",
      "\u001b[31m✖\u001b[39m \u001b[34mdplyr\u001b[39m::\u001b[32mlag()\u001b[39m    masks \u001b[34mstats\u001b[39m::lag()\n",
      "\u001b[36mℹ\u001b[39m Use the conflicted package (\u001b[3m\u001b[34m<http://conflicted.r-lib.org/>\u001b[39m\u001b[23m) to force all conflicts to become errors\n"
     ]
    }
   ],
   "source": [
    "library(tidyverse)\n",
    "library(repr)"
   ]
  },
  {
   "cell_type": "markdown",
   "id": "ef664314-039a-488d-b1ea-05b6e71bdfe7",
   "metadata": {},
   "source": [
    "So first we will call in the dataset as we had before to manupliate here."
   ]
  },
  {
   "cell_type": "code",
   "execution_count": 3,
   "id": "ae55d35f-2063-4cb2-9d4d-d1955e4da21a",
   "metadata": {
    "tags": []
   },
   "outputs": [
    {
     "name": "stderr",
     "output_type": "stream",
     "text": [
      "\u001b[1mRows: \u001b[22m\u001b[34m17898\u001b[39m \u001b[1mColumns: \u001b[22m\u001b[34m9\u001b[39m\n",
      "\u001b[36m──\u001b[39m \u001b[1mColumn specification\u001b[22m \u001b[36m────────────────────────────────────────────────────────\u001b[39m\n",
      "\u001b[1mDelimiter:\u001b[22m \",\"\n",
      "\u001b[32mdbl\u001b[39m (9): mean_ip, std_ip, ek_ip, sk_ip, mean_dmsnr, std_dmsnr, ek_dmsnr, sk_...\n",
      "\n",
      "\u001b[36mℹ\u001b[39m Use `spec()` to retrieve the full column specification for this data.\n",
      "\u001b[36mℹ\u001b[39m Specify the column types or set `show_col_types = FALSE` to quiet this message.\n"
     ]
    },
    {
     "name": "stdout",
     "output_type": "stream",
     "text": [
      "[1] \"Table 1\"\n"
     ]
    },
    {
     "data": {
      "text/html": [
       "<table class=\"dataframe\">\n",
       "<caption>A tibble: 10 × 9</caption>\n",
       "<thead>\n",
       "\t<tr><th scope=col>mean_ip</th><th scope=col>std_ip</th><th scope=col>ek_ip</th><th scope=col>sk_ip</th><th scope=col>mean_dmsnr</th><th scope=col>std_dmsnr</th><th scope=col>ek_dmsnr</th><th scope=col>sk_dmsnr</th><th scope=col>class</th></tr>\n",
       "\t<tr><th scope=col>&lt;dbl&gt;</th><th scope=col>&lt;dbl&gt;</th><th scope=col>&lt;dbl&gt;</th><th scope=col>&lt;dbl&gt;</th><th scope=col>&lt;dbl&gt;</th><th scope=col>&lt;dbl&gt;</th><th scope=col>&lt;dbl&gt;</th><th scope=col>&lt;dbl&gt;</th><th scope=col>&lt;fct&gt;</th></tr>\n",
       "</thead>\n",
       "<tbody>\n",
       "\t<tr><td>140.56250</td><td>55.68378</td><td>-0.23457141</td><td>-0.6996484</td><td>3.1998328</td><td>19.110426</td><td> 7.975532</td><td> 74.24222</td><td>0</td></tr>\n",
       "\t<tr><td>102.50781</td><td>58.88243</td><td> 0.46531815</td><td>-0.5150879</td><td>1.6772575</td><td>14.860146</td><td>10.576487</td><td>127.39358</td><td>0</td></tr>\n",
       "\t<tr><td>103.01562</td><td>39.34165</td><td> 0.32332837</td><td> 1.0511644</td><td>3.1212375</td><td>21.744669</td><td> 7.735822</td><td> 63.17191</td><td>0</td></tr>\n",
       "\t<tr><td>136.75000</td><td>57.17845</td><td>-0.06841464</td><td>-0.6362384</td><td>3.6429766</td><td>20.959280</td><td> 6.896499</td><td> 53.59366</td><td>0</td></tr>\n",
       "\t<tr><td> 88.72656</td><td>40.67223</td><td> 0.60086608</td><td> 1.1234917</td><td>1.1789298</td><td>11.468720</td><td>14.269573</td><td>252.56731</td><td>0</td></tr>\n",
       "\t<tr><td> 93.57031</td><td>46.69811</td><td> 0.53190485</td><td> 0.4167211</td><td>1.6362876</td><td>14.545074</td><td>10.621748</td><td>131.39400</td><td>0</td></tr>\n",
       "\t<tr><td>119.48438</td><td>48.76506</td><td> 0.03146022</td><td>-0.1121676</td><td>0.9991639</td><td> 9.279612</td><td>19.206230</td><td>479.75657</td><td>0</td></tr>\n",
       "\t<tr><td>130.38281</td><td>39.84406</td><td>-0.15832276</td><td> 0.3895404</td><td>1.2207358</td><td>14.378941</td><td>13.539456</td><td>198.23646</td><td>0</td></tr>\n",
       "\t<tr><td>107.25000</td><td>52.62708</td><td> 0.45268802</td><td> 0.1703474</td><td>2.3319398</td><td>14.486853</td><td> 9.001004</td><td>107.97251</td><td>0</td></tr>\n",
       "\t<tr><td>107.25781</td><td>39.49649</td><td> 0.46588196</td><td> 1.1628771</td><td>4.0794314</td><td>24.980418</td><td> 7.397080</td><td> 57.78474</td><td>0</td></tr>\n",
       "</tbody>\n",
       "</table>\n"
      ],
      "text/latex": [
       "A tibble: 10 × 9\n",
       "\\begin{tabular}{lllllllll}\n",
       " mean\\_ip & std\\_ip & ek\\_ip & sk\\_ip & mean\\_dmsnr & std\\_dmsnr & ek\\_dmsnr & sk\\_dmsnr & class\\\\\n",
       " <dbl> & <dbl> & <dbl> & <dbl> & <dbl> & <dbl> & <dbl> & <dbl> & <fct>\\\\\n",
       "\\hline\n",
       "\t 140.56250 & 55.68378 & -0.23457141 & -0.6996484 & 3.1998328 & 19.110426 &  7.975532 &  74.24222 & 0\\\\\n",
       "\t 102.50781 & 58.88243 &  0.46531815 & -0.5150879 & 1.6772575 & 14.860146 & 10.576487 & 127.39358 & 0\\\\\n",
       "\t 103.01562 & 39.34165 &  0.32332837 &  1.0511644 & 3.1212375 & 21.744669 &  7.735822 &  63.17191 & 0\\\\\n",
       "\t 136.75000 & 57.17845 & -0.06841464 & -0.6362384 & 3.6429766 & 20.959280 &  6.896499 &  53.59366 & 0\\\\\n",
       "\t  88.72656 & 40.67223 &  0.60086608 &  1.1234917 & 1.1789298 & 11.468720 & 14.269573 & 252.56731 & 0\\\\\n",
       "\t  93.57031 & 46.69811 &  0.53190485 &  0.4167211 & 1.6362876 & 14.545074 & 10.621748 & 131.39400 & 0\\\\\n",
       "\t 119.48438 & 48.76506 &  0.03146022 & -0.1121676 & 0.9991639 &  9.279612 & 19.206230 & 479.75657 & 0\\\\\n",
       "\t 130.38281 & 39.84406 & -0.15832276 &  0.3895404 & 1.2207358 & 14.378941 & 13.539456 & 198.23646 & 0\\\\\n",
       "\t 107.25000 & 52.62708 &  0.45268802 &  0.1703474 & 2.3319398 & 14.486853 &  9.001004 & 107.97251 & 0\\\\\n",
       "\t 107.25781 & 39.49649 &  0.46588196 &  1.1628771 & 4.0794314 & 24.980418 &  7.397080 &  57.78474 & 0\\\\\n",
       "\\end{tabular}\n"
      ],
      "text/markdown": [
       "\n",
       "A tibble: 10 × 9\n",
       "\n",
       "| mean_ip &lt;dbl&gt; | std_ip &lt;dbl&gt; | ek_ip &lt;dbl&gt; | sk_ip &lt;dbl&gt; | mean_dmsnr &lt;dbl&gt; | std_dmsnr &lt;dbl&gt; | ek_dmsnr &lt;dbl&gt; | sk_dmsnr &lt;dbl&gt; | class &lt;fct&gt; |\n",
       "|---|---|---|---|---|---|---|---|---|\n",
       "| 140.56250 | 55.68378 | -0.23457141 | -0.6996484 | 3.1998328 | 19.110426 |  7.975532 |  74.24222 | 0 |\n",
       "| 102.50781 | 58.88243 |  0.46531815 | -0.5150879 | 1.6772575 | 14.860146 | 10.576487 | 127.39358 | 0 |\n",
       "| 103.01562 | 39.34165 |  0.32332837 |  1.0511644 | 3.1212375 | 21.744669 |  7.735822 |  63.17191 | 0 |\n",
       "| 136.75000 | 57.17845 | -0.06841464 | -0.6362384 | 3.6429766 | 20.959280 |  6.896499 |  53.59366 | 0 |\n",
       "|  88.72656 | 40.67223 |  0.60086608 |  1.1234917 | 1.1789298 | 11.468720 | 14.269573 | 252.56731 | 0 |\n",
       "|  93.57031 | 46.69811 |  0.53190485 |  0.4167211 | 1.6362876 | 14.545074 | 10.621748 | 131.39400 | 0 |\n",
       "| 119.48438 | 48.76506 |  0.03146022 | -0.1121676 | 0.9991639 |  9.279612 | 19.206230 | 479.75657 | 0 |\n",
       "| 130.38281 | 39.84406 | -0.15832276 |  0.3895404 | 1.2207358 | 14.378941 | 13.539456 | 198.23646 | 0 |\n",
       "| 107.25000 | 52.62708 |  0.45268802 |  0.1703474 | 2.3319398 | 14.486853 |  9.001004 | 107.97251 | 0 |\n",
       "| 107.25781 | 39.49649 |  0.46588196 |  1.1628771 | 4.0794314 | 24.980418 |  7.397080 |  57.78474 | 0 |\n",
       "\n"
      ],
      "text/plain": [
       "   mean_ip   std_ip   ek_ip       sk_ip      mean_dmsnr std_dmsnr ek_dmsnr \n",
       "1  140.56250 55.68378 -0.23457141 -0.6996484 3.1998328  19.110426  7.975532\n",
       "2  102.50781 58.88243  0.46531815 -0.5150879 1.6772575  14.860146 10.576487\n",
       "3  103.01562 39.34165  0.32332837  1.0511644 3.1212375  21.744669  7.735822\n",
       "4  136.75000 57.17845 -0.06841464 -0.6362384 3.6429766  20.959280  6.896499\n",
       "5   88.72656 40.67223  0.60086608  1.1234917 1.1789298  11.468720 14.269573\n",
       "6   93.57031 46.69811  0.53190485  0.4167211 1.6362876  14.545074 10.621748\n",
       "7  119.48438 48.76506  0.03146022 -0.1121676 0.9991639   9.279612 19.206230\n",
       "8  130.38281 39.84406 -0.15832276  0.3895404 1.2207358  14.378941 13.539456\n",
       "9  107.25000 52.62708  0.45268802  0.1703474 2.3319398  14.486853  9.001004\n",
       "10 107.25781 39.49649  0.46588196  1.1628771 4.0794314  24.980418  7.397080\n",
       "   sk_dmsnr  class\n",
       "1   74.24222 0    \n",
       "2  127.39358 0    \n",
       "3   63.17191 0    \n",
       "4   53.59366 0    \n",
       "5  252.56731 0    \n",
       "6  131.39400 0    \n",
       "7  479.75657 0    \n",
       "8  198.23646 0    \n",
       "9  107.97251 0    \n",
       "10  57.78474 0    "
      ]
     },
     "metadata": {},
     "output_type": "display_data"
    }
   ],
   "source": [
    "# Adding the column names to the dataset because they originally did not exist\n",
    "columns <- c(\"mean_ip\", \"std_ip\", \"ek_ip\", \"sk_ip\", \"mean_dmsnr\", \"std_dmsnr\", \"ek_dmsnr\", \"sk_dmsnr\", \"class\")\n",
    "\n",
    "# reading the data, and converting class to factor type\n",
    "pulsar_data <- read_csv(\"https://raw.githubusercontent.com/originalajitest/Pulsars_R/main/data/HTRU_2.csv\", col_names = columns) |>\n",
    "                    mutate(class = as.factor(class))\n",
    "\n",
    "print(\"Table 1\")\n",
    "head(pulsar_data, 10)"
   ]
  },
  {
   "cell_type": "markdown",
   "id": "d685a581-ce1c-453e-b08a-759b215ab8a2",
   "metadata": {},
   "source": [
    "### Each variable will go through at least two tests (hopefully the first two) to best determine the constants to use.\n",
    "#### Tests:\n",
    "<ol>\n",
    "    <li>We will first put them through ${var}^{x}$ where $x\\geq1$ aiming for a whole $x$</li>\n",
    "    <li>This one will run using $x * var$ where $x \\geq 1$ aiming for any $x$</li>\n",
    "    <li>If the first one shows no sign of reaching a conclusion within the first few run, then we will run $var ^ {-x}$ where $x \\geq 1$ aiming for a whole $x$. This would be most applicable to variables where $|var|\\leq1$.</li>\n",
    "    <li>If the third one does not converge, then we will try with $var^{\\frac{1}{x}}$ where $1\\leq|x|\\leq100$ aiming for a whole $x$.</li>\n",
    "    <li>If the second one shows no sign of converging to a value within a few runs, we will $var/x$ where $x\\geq1$ aiming for any $x$. This has a low chance of working as it brings variables closer together and as such should be a last option if none of those above work.</li>\n",
    "    <li>On the chence that none of these work, we shall then try to centre and scale the data and then repeat the tests to find the best fit for the data. Or as a last case ignore that variable and experiement with it later on using the model generator.</li>\n",
    "</ol>"
   ]
  },
  {
   "cell_type": "markdown",
   "id": "9446dbdc-d1cc-46b2-b0ba-cb8ade7c128b",
   "metadata": {
    "tags": []
   },
   "source": [
    "Now we shall separate the data into different variable to help with experiemnting."
   ]
  },
  {
   "cell_type": "code",
   "execution_count": 4,
   "id": "8555ec90-b7a6-406e-9e24-a98035f19c20",
   "metadata": {
    "tags": []
   },
   "outputs": [],
   "source": [
    "mean_ip_set <- select(pulsar_data, mean_ip, class)\n",
    "std_ip_set <- select(pulsar_data, std_ip, class)\n",
    "ek_ip_set <- select(pulsar_data, ek_ip, class)\n",
    "sk_ip_set <- select(pulsar_data, sk_ip, class)\n",
    "mean_dmsnr_set <- select(pulsar_data, mean_dmsnr, class)\n",
    "std_dmsnr_set <- select(pulsar_data, std_dmsnr, class)\n",
    "ek_dmsnr_set <- select(pulsar_data, ek_dmsnr, class)\n",
    "sk_dmsnr_set <- select(pulsar_data, sk_dmsnr, class)"
   ]
  },
  {
   "cell_type": "code",
   "execution_count": 5,
   "id": "b967f5d7-c250-42fc-acea-0e9d30cbcffa",
   "metadata": {
    "tags": []
   },
   "outputs": [
    {
     "name": "stdout",
     "output_type": "stream",
     "text": [
      "tibble [17,898 × 2] (S3: tbl_df/tbl/data.frame)\n",
      " $ mean_ip: num [1:17898] 140.6 102.5 103 136.8 88.7 ...\n",
      " $ class  : Factor w/ 2 levels \"0\",\"1\": 1 1 1 1 1 1 1 1 1 1 ...\n"
     ]
    }
   ],
   "source": [
    "str(mean_ip_set)"
   ]
  },
  {
   "cell_type": "code",
   "execution_count": 6,
   "id": "0d596a05-48c3-4a88-9af2-1a2000473f60",
   "metadata": {},
   "outputs": [],
   "source": [
    "mean_ip_2 <- arrange(mean_ip_set,mean_ip)\n"
   ]
  },
  {
   "cell_type": "code",
   "execution_count": 9,
   "id": "60225786-48d5-4faf-a3d8-d01e5a4dc920",
   "metadata": {
    "tags": []
   },
   "outputs": [
    {
     "ename": "ERROR",
     "evalue": "\u001b[1m\u001b[33mError\u001b[39m in `select()`:\u001b[22m\n\u001b[33m!\u001b[39m Problem while evaluating `calss == 0`.\n\u001b[1mCaused by error:\u001b[22m\n\u001b[33m!\u001b[39m object 'calss' not found\n",
     "output_type": "error",
     "traceback": [
      "\u001b[1m\u001b[33mError\u001b[39m in `select()`:\u001b[22m\n\u001b[33m!\u001b[39m Problem while evaluating `calss == 0`.\n\u001b[1mCaused by error:\u001b[22m\n\u001b[33m!\u001b[39m object 'calss' not found\nTraceback:\n",
      "1. select(mean_ip_2, calss == 0)",
      "2. select.data.frame(mean_ip_2, calss == 0)",
      "3. tidyselect::eval_select(expr(c(...)), data = .data, error_call = error_call)",
      "4. eval_select_impl(data, names(data), as_quosure(expr, env), include = include, \n .     exclude = exclude, strict = strict, name_spec = name_spec, \n .     allow_rename = allow_rename, allow_empty = allow_empty, allow_predicates = allow_predicates, \n .     error_call = error_call, )",
      "5. with_subscript_errors(out <- vars_select_eval(vars, expr, strict = strict, \n .     data = x, name_spec = name_spec, uniquely_named = uniquely_named, \n .     allow_rename = allow_rename, allow_empty = allow_empty, allow_predicates = allow_predicates, \n .     type = type, error_call = error_call), type = type)",
      "6. try_fetch(expr, vctrs_error_subscript = function(cnd) {\n .     cnd$subscript_action <- subscript_action(type)\n .     cnd$subscript_elt <- \"column\"\n .     cnd_signal(cnd)\n . })",
      "7. withCallingHandlers(expr, condition = function(cnd) {\n .     {\n .         .__handler_frame__. <- TRUE\n .         .__setup_frame__. <- frame\n .         if (inherits(cnd, \"message\")) {\n .             except <- c(\"warning\", \"error\")\n .         }\n .         else if (inherits(cnd, \"warning\")) {\n .             except <- \"error\"\n .         }\n .         else {\n .             except <- \"\"\n .         }\n .     }\n .     while (!is_null(cnd)) {\n .         if (inherits(cnd, \"vctrs_error_subscript\")) {\n .             out <- handlers[[1L]](cnd)\n .             if (!inherits(out, \"rlang_zap\")) \n .                 throw(out)\n .         }\n .         inherit <- .subset2(.subset2(cnd, \"rlang\"), \"inherit\")\n .         if (is_false(inherit)) {\n .             return()\n .         }\n .         cnd <- .subset2(cnd, \"parent\")\n .     }\n . })",
      "8. vars_select_eval(vars, expr, strict = strict, data = x, name_spec = name_spec, \n .     uniquely_named = uniquely_named, allow_rename = allow_rename, \n .     allow_empty = allow_empty, allow_predicates = allow_predicates, \n .     type = type, error_call = error_call)",
      "9. walk_data_tree(expr, data_mask, context_mask)",
      "10. eval_c(expr, data_mask, context_mask)",
      "11. reduce_sels(node, data_mask, context_mask, init = init)",
      "12. walk_data_tree(new, data_mask, context_mask)",
      "13. eval_context(expr, context_mask, call = error_call)",
      "14. with_chained_errors(eval_tidy(as_quosure(expr, env), context_mask), \n  .     call = call, eval_expr = expr)",
      "15. try_fetch(expr, error = function(cnd) {\n  .     eval_expr <- quo_squash(eval_expr)\n  .     if (!is_call(eval_expr) || identical(cnd[[\"call\"]], call2(eval_expr[[1]]))) {\n  .         msg <- \"\"\n  .     }\n  .     else {\n  .         code <- as_label(eval_expr)\n  .         msg <- cli::format_inline(\"Problem while evaluating {.code {code}}.\")\n  .     }\n  .     abort(msg, call = call, parent = cnd)\n  . })",
      "16. tryCatch(withCallingHandlers(expr, condition = function(cnd) {\n  .     {\n  .         .__handler_frame__. <- TRUE\n  .         .__setup_frame__. <- frame\n  .         if (inherits(cnd, \"message\")) {\n  .             except <- c(\"warning\", \"error\")\n  .         }\n  .         else if (inherits(cnd, \"warning\")) {\n  .             except <- \"error\"\n  .         }\n  .         else {\n  .             except <- \"\"\n  .         }\n  .     }\n  .     while (!is_null(cnd)) {\n  .         if (inherits(cnd, \"error\")) {\n  .             out <- handlers[[1L]](cnd)\n  .             if (!inherits(out, \"rlang_zap\")) \n  .                 throw(out)\n  .         }\n  .         inherit <- .subset2(.subset2(cnd, \"rlang\"), \"inherit\")\n  .         if (is_false(inherit)) {\n  .             return()\n  .         }\n  .         cnd <- .subset2(cnd, \"parent\")\n  .     }\n  . }), stackOverflowError = handlers[[1L]])",
      "17. tryCatchList(expr, classes, parentenv, handlers)",
      "18. tryCatchOne(expr, names, parentenv, handlers[[1L]])",
      "19. doTryCatch(return(expr), name, parentenv, handler)",
      "20. withCallingHandlers(expr, condition = function(cnd) {\n  .     {\n  .         .__handler_frame__. <- TRUE\n  .         .__setup_frame__. <- frame\n  .         if (inherits(cnd, \"message\")) {\n  .             except <- c(\"warning\", \"error\")\n  .         }\n  .         else if (inherits(cnd, \"warning\")) {\n  .             except <- \"error\"\n  .         }\n  .         else {\n  .             except <- \"\"\n  .         }\n  .     }\n  .     while (!is_null(cnd)) {\n  .         if (inherits(cnd, \"error\")) {\n  .             out <- handlers[[1L]](cnd)\n  .             if (!inherits(out, \"rlang_zap\")) \n  .                 throw(out)\n  .         }\n  .         inherit <- .subset2(.subset2(cnd, \"rlang\"), \"inherit\")\n  .         if (is_false(inherit)) {\n  .             return()\n  .         }\n  .         cnd <- .subset2(cnd, \"parent\")\n  .     }\n  . })",
      "21. eval_tidy(as_quosure(expr, env), context_mask)",
      "22. .handleSimpleError(function (cnd) \n  . {\n  .     {\n  .         .__handler_frame__. <- TRUE\n  .         .__setup_frame__. <- frame\n  .         if (inherits(cnd, \"message\")) {\n  .             except <- c(\"warning\", \"error\")\n  .         }\n  .         else if (inherits(cnd, \"warning\")) {\n  .             except <- \"error\"\n  .         }\n  .         else {\n  .             except <- \"\"\n  .         }\n  .     }\n  .     while (!is_null(cnd)) {\n  .         if (inherits(cnd, \"error\")) {\n  .             out <- handlers[[1L]](cnd)\n  .             if (!inherits(out, \"rlang_zap\")) \n  .                 throw(out)\n  .         }\n  .         inherit <- .subset2(.subset2(cnd, \"rlang\"), \"inherit\")\n  .         if (is_false(inherit)) {\n  .             return()\n  .         }\n  .         cnd <- .subset2(cnd, \"parent\")\n  .     }\n  . }, \"object 'calss' not found\", base::quote(eval_tidy(as_quosure(expr, \n  .     env), context_mask)))",
      "23. h(simpleError(msg, call))",
      "24. handlers[[1L]](cnd)",
      "25. abort(msg, call = call, parent = cnd)",
      "26. signal_abort(cnd, .file)"
     ]
    }
   ],
   "source": [
    "non_pul_mean_ip <- select(mean_ip_2,calss == 0)\n",
    "non_pul_mean_ip"
   ]
  },
  {
   "cell_type": "code",
   "execution_count": null,
   "id": "94320c6b-9306-4f3d-92fb-c3857e35f163",
   "metadata": {},
   "outputs": [],
   "source": []
  }
 ],
 "metadata": {
  "kernelspec": {
   "display_name": "R",
   "language": "R",
   "name": "ir"
  },
  "language_info": {
   "codemirror_mode": "r",
   "file_extension": ".r",
   "mimetype": "text/x-r-source",
   "name": "R",
   "pygments_lexer": "r",
   "version": "4.2.3"
  }
 },
 "nbformat": 4,
 "nbformat_minor": 5
}
